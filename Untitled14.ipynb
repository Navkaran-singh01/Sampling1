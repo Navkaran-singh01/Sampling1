{
  "nbformat": 4,
  "nbformat_minor": 0,
  "metadata": {
    "colab": {
      "provenance": [],
      "authorship_tag": "ABX9TyPfpUD7GbeGPO5xg5sZywIW",
      "include_colab_link": true
    },
    "kernelspec": {
      "name": "python3",
      "display_name": "Python 3"
    },
    "language_info": {
      "name": "python"
    }
  },
  "cells": [
    {
      "cell_type": "markdown",
      "metadata": {
        "id": "view-in-github",
        "colab_type": "text"
      },
      "source": [
        "<a href=\"https://colab.research.google.com/github/Navkaran-singh01/Sampling1/blob/main/Untitled14.ipynb\" target=\"_parent\"><img src=\"https://colab.research.google.com/assets/colab-badge.svg\" alt=\"Open In Colab\"/></a>"
      ]
    },
    {
      "cell_type": "code",
      "execution_count": 10,
      "metadata": {
        "colab": {
          "base_uri": "https://localhost:8080/"
        },
        "id": "L9lZ03DDrE-K",
        "outputId": "1d64d354-a2e9-485b-ae52-9bf513d5491b"
      },
      "outputs": [
        {
          "output_type": "stream",
          "name": "stdout",
          "text": [
            "Skipping Sampling1 due to insufficient sample size: 1\n",
            "Skipping Sampling2 due to insufficient sample size: 3\n",
            "Skipping Sampling3 as it contains only one class: 1\n"
          ]
        },
        {
          "output_type": "stream",
          "name": "stderr",
          "text": [
            "/usr/local/lib/python3.11/dist-packages/sklearn/linear_model/_logistic.py:465: ConvergenceWarning: lbfgs failed to converge (status=1):\n",
            "STOP: TOTAL NO. of ITERATIONS REACHED LIMIT.\n",
            "\n",
            "Increase the number of iterations (max_iter) or scale the data as shown in:\n",
            "    https://scikit-learn.org/stable/modules/preprocessing.html\n",
            "Please also refer to the documentation for alternative solver options:\n",
            "    https://scikit-learn.org/stable/modules/linear_model.html#logistic-regression\n",
            "  n_iter_i = _check_optimize_result(\n"
          ]
        },
        {
          "output_type": "stream",
          "name": "stdout",
          "text": [
            "Accuracy Results:\n",
            "     Sampling4  Sampling5\n",
            "M1        1.0        1.0\n",
            "M2        1.0        1.0\n",
            "M3        1.0        1.0\n",
            "M4        1.0        0.5\n",
            "M5        0.5        0.0\n"
          ]
        }
      ],
      "source": [
        "import pandas as pd\n",
        "import numpy as np\n",
        "from sklearn.model_selection import train_test_split\n",
        "from sklearn.ensemble import RandomForestClassifier\n",
        "from sklearn.linear_model import LogisticRegression\n",
        "from sklearn.svm import SVC\n",
        "from sklearn.metrics import accuracy_score\n",
        "from imblearn.over_sampling import SMOTE\n",
        "from imblearn.under_sampling import RandomUnderSampler\n",
        "\n",
        "\n",
        "data = pd.read_csv('/content/Creditcard_data.csv')\n",
        "\n",
        "\n",
        "def balance_data(X, y, technique=\"SMOTE\"):\n",
        "    if technique == \"SMOTE\":\n",
        "        smote = SMOTE(random_state=42)\n",
        "        X_resampled, y_resampled = smote.fit_resample(X, y)\n",
        "    elif technique == \"undersampling\":\n",
        "        rus = RandomUnderSampler(random_state=42)\n",
        "        X_resampled, y_resampled = rus.fit_resample(X, y)\n",
        "    else:\n",
        "        raise ValueError(\"Invalid balancing technique\")\n",
        "    return X_resampled, y_resampled\n",
        "\n",
        "\n",
        "X = data.drop(\"Class\", axis=1)\n",
        "y = data[\"Class\"]\n",
        "\n",
        "\n",
        "X_balanced, y_balanced = balance_data(X, y)\n",
        "\n",
        "\n",
        "sample_sizes = [int(len(X_balanced) * 0.1 * i) for i in range(1, 6)]\n",
        "samples = [X_balanced.sample(n=size, random_state=42) for size in sample_sizes]\n",
        "sample_labels = [y_balanced.iloc[sample.index] for sample in samples]\n",
        "\n",
        "\n",
        "models = {\n",
        "    \"M1\": LogisticRegression(),\n",
        "    \"M2\": RandomForestClassifier(),\n",
        "    \"M3\": SVC(kernel=\"linear\"),\n",
        "    \"M4\": SVC(kernel=\"rbf\"),\n",
        "    \"M5\": RandomForestClassifier(n_estimators=200)\n",
        "}\n",
        "\n",
        "sampling_techniques = [\"Sampling1\", \"Sampling2\", \"Sampling3\", \"Sampling4\", \"Sampling5\"]\n",
        "results = {}\n",
        "\n",
        "for i, (X_sample, y_sample) in enumerate(zip(samples, sample_labels)):\n",
        "    technique_name = sampling_techniques[i]\n",
        "    for model_name, model in models.items():\n",
        "\n",
        "        X_train, X_test, y_train, y_test = train_test_split(X_sample, y_sample, test_size=0.2, random_state=42)\n",
        "\n",
        "\n",
        "        model.fit(X_train, y_train)\n",
        "\n",
        "\n",
        "        y_pred = model.predict(X_test)\n",
        "        accuracy = accuracy_score(y_test, y_pred)\n",
        "\n",
        "\n",
        "        if model_name not in results:\n",
        "            results[model_name] = {}\n",
        "        results[model_name][technique_name] = accuracy\n",
        "\n",
        "\n",
        "results_df = pd.DataFrame(results).T\n",
        "print(\"Accuracy Results:\\n\", results_df)\n",
        "\n",
        "print(max(results_df))\n"
      ]
    }
  ]
}