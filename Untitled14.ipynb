{
  "nbformat": 4,
  "nbformat_minor": 0,
  "metadata": {
    "colab": {
      "provenance": [],
      "authorship_tag": "ABX9TyMLevwmbteKitO0pFFDH97j",
      "include_colab_link": true
    },
    "kernelspec": {
      "name": "python3",
      "display_name": "Python 3"
    },
    "language_info": {
      "name": "python"
    }
  },
  "cells": [
    {
      "cell_type": "markdown",
      "metadata": {
        "id": "view-in-github",
        "colab_type": "text"
      },
      "source": [
        "<a href=\"https://colab.research.google.com/github/Navkaran-singh01/Sampling1/blob/main/Untitled14.ipynb\" target=\"_parent\"><img src=\"https://colab.research.google.com/assets/colab-badge.svg\" alt=\"Open In Colab\"/></a>"
      ]
    },
    {
      "cell_type": "code",
      "execution_count": 4,
      "metadata": {
        "colab": {
          "base_uri": "https://localhost:8080/"
        },
        "id": "L9lZ03DDrE-K",
        "outputId": "61145851-445b-4709-e73d-25dfc9969cfa"
      },
      "outputs": [
        {
          "output_type": "stream",
          "name": "stderr",
          "text": [
            "/usr/local/lib/python3.11/dist-packages/sklearn/linear_model/_logistic.py:465: ConvergenceWarning: lbfgs failed to converge (status=1):\n",
            "STOP: TOTAL NO. of ITERATIONS REACHED LIMIT.\n",
            "\n",
            "Increase the number of iterations (max_iter) or scale the data as shown in:\n",
            "    https://scikit-learn.org/stable/modules/preprocessing.html\n",
            "Please also refer to the documentation for alternative solver options:\n",
            "    https://scikit-learn.org/stable/modules/linear_model.html#logistic-regression\n",
            "  n_iter_i = _check_optimize_result(\n",
            "/usr/local/lib/python3.11/dist-packages/sklearn/linear_model/_logistic.py:465: ConvergenceWarning: lbfgs failed to converge (status=1):\n",
            "STOP: TOTAL NO. of ITERATIONS REACHED LIMIT.\n",
            "\n",
            "Increase the number of iterations (max_iter) or scale the data as shown in:\n",
            "    https://scikit-learn.org/stable/modules/preprocessing.html\n",
            "Please also refer to the documentation for alternative solver options:\n",
            "    https://scikit-learn.org/stable/modules/linear_model.html#logistic-regression\n",
            "  n_iter_i = _check_optimize_result(\n",
            "/usr/local/lib/python3.11/dist-packages/sklearn/linear_model/_logistic.py:465: ConvergenceWarning: lbfgs failed to converge (status=1):\n",
            "STOP: TOTAL NO. of ITERATIONS REACHED LIMIT.\n",
            "\n",
            "Increase the number of iterations (max_iter) or scale the data as shown in:\n",
            "    https://scikit-learn.org/stable/modules/preprocessing.html\n",
            "Please also refer to the documentation for alternative solver options:\n",
            "    https://scikit-learn.org/stable/modules/linear_model.html#logistic-regression\n",
            "  n_iter_i = _check_optimize_result(\n",
            "/usr/local/lib/python3.11/dist-packages/sklearn/linear_model/_logistic.py:465: ConvergenceWarning: lbfgs failed to converge (status=1):\n",
            "STOP: TOTAL NO. of ITERATIONS REACHED LIMIT.\n",
            "\n",
            "Increase the number of iterations (max_iter) or scale the data as shown in:\n",
            "    https://scikit-learn.org/stable/modules/preprocessing.html\n",
            "Please also refer to the documentation for alternative solver options:\n",
            "    https://scikit-learn.org/stable/modules/linear_model.html#logistic-regression\n",
            "  n_iter_i = _check_optimize_result(\n",
            "/usr/local/lib/python3.11/dist-packages/sklearn/linear_model/_logistic.py:465: ConvergenceWarning: lbfgs failed to converge (status=1):\n",
            "STOP: TOTAL NO. of ITERATIONS REACHED LIMIT.\n",
            "\n",
            "Increase the number of iterations (max_iter) or scale the data as shown in:\n",
            "    https://scikit-learn.org/stable/modules/preprocessing.html\n",
            "Please also refer to the documentation for alternative solver options:\n",
            "    https://scikit-learn.org/stable/modules/linear_model.html#logistic-regression\n",
            "  n_iter_i = _check_optimize_result(\n"
          ]
        },
        {
          "output_type": "stream",
          "name": "stdout",
          "text": [
            "Accuracy Results:\n",
            "     Sampling1  Sampling2  Sampling3  Sampling4  Sampling5\n",
            "M1   0.935484   0.918033   0.869565   0.844262   0.875817\n",
            "M2   0.935484   0.983607   0.967391   0.991803   1.000000\n",
            "M3   0.967742   0.885246   0.847826   0.868852   0.921569\n",
            "M4   0.548387   0.721311   0.673913   0.655738   0.660131\n",
            "M5   0.967742   0.950820   0.956522   0.991803   1.000000\n",
            "Sampling5\n"
          ]
        }
      ],
      "source": [
        "import pandas as pd\n",
        "import numpy as np\n",
        "from sklearn.model_selection import train_test_split\n",
        "from sklearn.ensemble import RandomForestClassifier\n",
        "from sklearn.linear_model import LogisticRegression\n",
        "from sklearn.svm import SVC\n",
        "from sklearn.metrics import accuracy_score\n",
        "from imblearn.over_sampling import SMOTE\n",
        "from imblearn.under_sampling import RandomUnderSampler\n",
        "\n",
        "# Step 1: Load the dataset\n",
        "data = pd.read_csv('/content/Creditcard_data.csv')\n",
        "\n",
        "# Step 2: Balance the dataset\n",
        "def balance_data(X, y, technique=\"SMOTE\"):\n",
        "    if technique == \"SMOTE\":\n",
        "        smote = SMOTE(random_state=42)\n",
        "        X_resampled, y_resampled = smote.fit_resample(X, y)\n",
        "    elif technique == \"undersampling\":\n",
        "        rus = RandomUnderSampler(random_state=42)\n",
        "        X_resampled, y_resampled = rus.fit_resample(X, y)\n",
        "    else:\n",
        "        raise ValueError(\"Invalid balancing technique\")\n",
        "    return X_resampled, y_resampled\n",
        "\n",
        "# Splitting features and target\n",
        "X = data.drop(\"Class\", axis=1)  # Replace 'target_column' with actual target\n",
        "y = data[\"Class\"]\n",
        "\n",
        "# Applying balancing\n",
        "X_balanced, y_balanced = balance_data(X, y)\n",
        "\n",
        "# Step 3: Create samples\n",
        "sample_sizes = [int(len(X_balanced) * 0.1 * i) for i in range(1, 6)]  # Example sample sizes\n",
        "samples = [X_balanced.sample(n=size, random_state=42) for size in sample_sizes]\n",
        "sample_labels = [y_balanced.iloc[sample.index] for sample in samples]\n",
        "\n",
        "# Step 4: Apply sampling techniques on models\n",
        "models = {\n",
        "    \"M1\": LogisticRegression(),\n",
        "    \"M2\": RandomForestClassifier(),\n",
        "    \"M3\": SVC(kernel=\"linear\"),\n",
        "    \"M4\": SVC(kernel=\"rbf\"),\n",
        "    \"M5\": RandomForestClassifier(n_estimators=200)\n",
        "}\n",
        "\n",
        "sampling_techniques = [\"Sampling1\", \"Sampling2\", \"Sampling3\", \"Sampling4\", \"Sampling5\"]\n",
        "results = {}\n",
        "\n",
        "for i, (X_sample, y_sample) in enumerate(zip(samples, sample_labels)):\n",
        "    technique_name = sampling_techniques[i]\n",
        "    for model_name, model in models.items():\n",
        "        # Train-test split\n",
        "        X_train, X_test, y_train, y_test = train_test_split(X_sample, y_sample, test_size=0.2, random_state=42)\n",
        "\n",
        "        # Train the model\n",
        "        model.fit(X_train, y_train)\n",
        "\n",
        "        # Evaluate\n",
        "        y_pred = model.predict(X_test)\n",
        "        accuracy = accuracy_score(y_test, y_pred)\n",
        "\n",
        "        # Store results\n",
        "        if model_name not in results:\n",
        "            results[model_name] = {}\n",
        "        results[model_name][technique_name] = accuracy\n",
        "\n",
        "# Step 5: Display results\n",
        "results_df = pd.DataFrame(results).T\n",
        "print(\"Accuracy Results:\\n\", results_df)\n",
        "\n",
        "\n"
      ]
    }
  ]
}